{
 "cells": [
  {
   "cell_type": "markdown",
   "metadata": {
    "colab_type": "text",
    "id": "p8tRInCUT_cA"
   },
   "source": [
    "# Google Colaboratory Notebook Template\n",
    "## Description:\n",
    "This template provide an easy way for developer to integrate their google drive with colaboratory environment.\n",
    "In addition, some useful package installaction tips are also included.\n",
    "You can run each segment by your needs.\n"
   ]
  },
  {
   "cell_type": "markdown",
   "metadata": {
    "colab_type": "text",
    "id": "8gs_zsbFW9Tw"
   },
   "source": [
    "## Check the default process and you location on the server.\n",
    "\n",
    "### If you encounter the issue of Out of Memory (OOM),  you can restart the instance by executing !kill -9 -1"
   ]
  },
  {
   "cell_type": "code",
   "execution_count": 1,
   "metadata": {
    "colab": {
     "autoexec": {
      "startup": false,
      "wait_interval": 0
     },
     "base_uri": "https://localhost:8080/",
     "height": 175,
     "output_extras": [
      {
       "item_id": 2
      }
     ]
    },
    "colab_type": "code",
    "executionInfo": {
     "elapsed": 2662,
     "status": "ok",
     "timestamp": 1522880794733,
     "user": {
      "displayName": "Cheng-lin Li",
      "photoUrl": "https://lh3.googleusercontent.com/a/default-user=s128",
      "userId": "100636845563930492512"
     },
     "user_tz": 420
    },
    "id": "rE2Slu6Am-Tr",
    "outputId": "e635f6b6-a968-4d7e-a306-c1db81ad5d44"
   },
   "outputs": [
    {
     "name": "stdout",
     "output_type": "stream",
     "text": [
      "UID        PID  PPID  C STIME TTY          TIME CMD\r\n",
      "root         1     0  0 22:24 ?        00:00:00 /bin/bash -e /datalab/run.sh\r\n",
      "root        70     1  0 22:24 ?        00:00:00 node /tools/node/bin/forever --m\r\n",
      "root        80    70  0 22:24 ?        00:00:00 /tools/node/bin/node /datalab/we\r\n",
      "root        90    80  1 22:24 ?        00:00:00 /usr/bin/python /usr/local/bin/j\r\n",
      "root       111    90 58 22:26 ?        00:00:03 /usr/bin/python3 -m ipykernel_la\r\n",
      "root       131   111 98 22:26 pts/0    00:00:00 /bin/sh -c ps -ef\r\n",
      "root       132   131  0 22:26 pts/0    00:00:00 ps -ef\n",
      "/content\n"
     ]
    }
   ],
   "source": [
    "!ps -ef\n",
    "!pwd\n",
    "\n",
    "# # unmark below line to restart the instance / colaboratory service\n",
    "# !kill -9 -1 "
   ]
  },
  {
   "cell_type": "markdown",
   "metadata": {
    "colab_type": "text",
    "id": "kCw2bzVcm-Ty"
   },
   "source": [
    "## Step 1. Prepare google drive connection to leverage the GPU computing power\n",
    "\n",
    "### Let's create a folder under google drive, say 'workspace'."
   ]
  },
  {
   "cell_type": "markdown",
   "metadata": {
    "colab_type": "text",
    "id": "gWfZDM9em-Ty"
   },
   "source": [
    "![Create folder](https://cheng-lin-li.github.io/images/2018-04-04/create_folder.png)"
   ]
  },
  {
   "cell_type": "markdown",
   "metadata": {
    "colab_type": "text",
    "id": "7cCbFlZom-Tz"
   },
   "source": [
    "## Step 2. Create the Colaboratory notebook.\n",
    "### Change your current folder to 'workspace' which you just create.\n",
    "### Now it's time to create your Google Colaboratory by right click on the folder, then select 'Colaboratory'\n",
    "### Or you can [download my google colaboratory template from here](https://cdn.rawgit.com/Cheng-Lin-Li/Cheng-Lin-Li.github.io/master/resources/2018-04-04/GoogleColaboratoryNotebookTemplate.ipynb) and upload the file to 'workspace' folder, then open it."
   ]
  },
  {
   "cell_type": "markdown",
   "metadata": {
    "colab_type": "text",
    "id": "HIaVETiIm-T0"
   },
   "source": [
    "![Image of create folder](https://cheng-lin-li.github.io/images/2018-04-04/create_file.png)"
   ]
  },
  {
   "cell_type": "markdown",
   "metadata": {
    "colab_type": "text",
    "id": "0ry400pym-T0"
   },
   "source": [
    "## Step3. Enable the GPU\n",
    "### follow Edit > Notebook settings>Change runtime type (or Runtime > Change runtime type) then select GPU as Hardware accelerator."
   ]
  },
  {
   "cell_type": "markdown",
   "metadata": {
    "colab_type": "text",
    "id": "VOurRo4fyAcH"
   },
   "source": [
    "![Enable GPU](https://cheng-lin-li.github.io/images/2018-04-04/enable_gpu.png)"
   ]
  },
  {
   "cell_type": "markdown",
   "metadata": {
    "colab_type": "text",
    "id": "CRy7NrLyxiQD"
   },
   "source": [
    "## Step4. Grant Google drive and content access privileges to Google Colaboratory server/instance."
   ]
  },
  {
   "cell_type": "code",
   "execution_count": 0,
   "metadata": {
    "cellView": "code",
    "colab": {
     "autoexec": {
      "startup": false,
      "wait_interval": 0
     },
     "base_uri": "https://localhost:8080/",
     "height": 107,
     "output_extras": [
      {},
      {}
     ]
    },
    "colab_type": "code",
    "executionInfo": {
     "elapsed": 13208,
     "status": "ok",
     "timestamp": 1521833950140,
     "user": {
      "displayName": "Cheng-lin Li",
      "photoUrl": "https://lh3.googleusercontent.com/a/default-user=s128",
      "userId": "100636845563930492512"
     },
     "user_tz": 420
    },
    "id": "r3F5zeenVs8I",
    "outputId": "2ffcba33-e102-469e-e458-d8e591bb0cf5"
   },
   "outputs": [
    {
     "name": "stderr",
     "output_type": "stream",
     "text": [
      "'apt-get' is not recognized as an internal or external command,\n",
      "operable program or batch file.\n",
      "The system cannot find the path specified.\n",
      "The system cannot find the path specified.\n",
      "'apt-get' is not recognized as an internal or external command,\n",
      "operable program or batch file.\n"
     ]
    },
    {
     "ename": "ModuleNotFoundError",
     "evalue": "No module named 'google.colab'",
     "output_type": "error",
     "traceback": [
      "\u001b[1;31m---------------------------------------------------------------------------\u001b[0m",
      "\u001b[1;31mModuleNotFoundError\u001b[0m                       Traceback (most recent call last)",
      "\u001b[1;32m<ipython-input-169-3f9fc7a95c6e>\u001b[0m in \u001b[0;36m<module>\u001b[1;34m()\u001b[0m\n\u001b[0;32m      7\u001b[0m \u001b[1;33m\u001b[0m\u001b[0m\n\u001b[0;32m      8\u001b[0m \u001b[1;31m# Generate auth tokens for Colab\u001b[0m\u001b[1;33m\u001b[0m\u001b[1;33m\u001b[0m\u001b[0m\n\u001b[1;32m----> 9\u001b[1;33m \u001b[1;32mfrom\u001b[0m \u001b[0mgoogle\u001b[0m\u001b[1;33m.\u001b[0m\u001b[0mcolab\u001b[0m \u001b[1;32mimport\u001b[0m \u001b[0mauth\u001b[0m\u001b[1;33m\u001b[0m\u001b[0m\n\u001b[0m\u001b[0;32m     10\u001b[0m \u001b[0mauth\u001b[0m\u001b[1;33m.\u001b[0m\u001b[0mauthenticate_user\u001b[0m\u001b[1;33m(\u001b[0m\u001b[1;33m)\u001b[0m\u001b[1;33m\u001b[0m\u001b[0m\n\u001b[0;32m     11\u001b[0m \u001b[1;31m# Generate creds for the Drive FUSE library.\u001b[0m\u001b[1;33m\u001b[0m\u001b[1;33m\u001b[0m\u001b[0m\n",
      "\u001b[1;31mModuleNotFoundError\u001b[0m: No module named 'google.colab'"
     ]
    }
   ],
   "source": [
    "# Download necessary software\n",
    "!apt-get install -y -qq software-properties-common python-software-properties module-init-tools\n",
    "!add-apt-repository -y ppa:alessandro-strada/ppa 2>&1 > /dev/null\n",
    "!apt-get update -qq 2>&1 > /dev/null\n",
    "!apt-get -y install -qq google-drive-ocamlfuse fuse\n",
    "\n",
    "\n",
    "# Generate auth tokens for Colab\n",
    "from google.colab import auth\n",
    "auth.authenticate_user()\n",
    "# Generate creds for the Drive FUSE library.\n",
    "from oauth2client.client import GoogleCredentials\n",
    "creds = GoogleCredentials.get_application_default()\n",
    "import getpass\n",
    "!google-drive-ocamlfuse -headless -id={creds.client_id} -secret={creds.client_secret} < /dev/null 2>&1 | grep URL\n",
    "vcode = getpass.getpass()\n",
    "!echo {vcode} | google-drive-ocamlfuse -headless -id={creds.client_id} -secret={creds.client_secret}"
   ]
  },
  {
   "cell_type": "markdown",
   "metadata": {
    "colab_type": "text",
    "id": "AYG7aU4yXKjj"
   },
   "source": [
    "### Step 5. Change to workspace folder and copy necessary files from google drive to google Colab instance."
   ]
  },
  {
   "cell_type": "code",
   "execution_count": 0,
   "metadata": {
    "colab": {
     "autoexec": {
      "startup": false,
      "wait_interval": 0
     },
     "base_uri": "https://localhost:8080/",
     "height": 140,
     "output_extras": [
      {}
     ]
    },
    "colab_type": "code",
    "executionInfo": {
     "elapsed": 20956,
     "status": "ok",
     "timestamp": 1521833974212,
     "user": {
      "displayName": "Cheng-lin Li",
      "photoUrl": "https://lh3.googleusercontent.com/a/default-user=s128",
      "userId": "100636845563930492512"
     },
     "user_tz": 420
    },
    "id": "vXIVH4h6T1m7",
    "outputId": "c11829fb-23cd-4896-9624-3f989e12b9ed"
   },
   "outputs": [
    {
     "name": "stdout",
     "output_type": "stream",
     "text": [
      "/content\n",
      "datalab  drive\n",
      "datalab  drive\n",
      "campaign_data.csv    sample_submission_4fcZwvQ.csv  train.csv\n",
      "Email_Predict.ipynb  test_BDIfz5B.csv\n",
      "campaign_data.csv    sample_submission_4fcZwvQ.csv  train.csv\n",
      "Email_Predict.ipynb  test_BDIfz5B.csv\n"
     ]
    }
   ],
   "source": [
    "!mkdir -p drive\n",
    "!google-drive-ocamlfuse -o nonempty drive\n",
    "!pwd\n",
    "!ls\n",
    "!cd drive\n",
    "!ls\n",
    "import os\n",
    "os.chdir(\"drive/workspace\")\n",
    "!ls\n",
    "!cp -R * ../../\n",
    "os.chdir(\"../../\")\n",
    "!ls -rlt"
   ]
  },
  {
   "cell_type": "markdown",
   "metadata": {
    "colab_type": "text",
    "id": "D5P2PX-WYcdC"
   },
   "source": [
    "### Step 6. Make sure GPU is ready"
   ]
  },
  {
   "cell_type": "code",
   "execution_count": 0,
   "metadata": {
    "colab": {
     "autoexec": {
      "startup": false,
      "wait_interval": 0
     },
     "base_uri": "https://localhost:8080/",
     "height": 35,
     "output_extras": [
      {},
      {}
     ]
    },
    "colab_type": "code",
    "executionInfo": {
     "elapsed": 9132,
     "status": "ok",
     "timestamp": 1521834162305,
     "user": {
      "displayName": "Cheng-lin Li",
      "photoUrl": "https://lh3.googleusercontent.com/a/default-user=s128",
      "userId": "100636845563930492512"
     },
     "user_tz": 420
    },
    "id": "qnqOR0N1YksJ",
    "outputId": "69a12234-9777-4fc2-d9e4-f6818cd7fa83"
   },
   "outputs": [
    {
     "name": "stderr",
     "output_type": "stream",
     "text": [
      "C:\\Users\\Clark\\Anaconda3\\lib\\site-packages\\h5py\\__init__.py:36: FutureWarning: Conversion of the second argument of issubdtype from `float` to `np.floating` is deprecated. In future, it will be treated as `np.float64 == np.dtype(float).type`.\n",
      "  from ._conv import register_converters as _register_converters\n"
     ]
    },
    {
     "data": {
      "text/plain": [
       "''"
      ]
     },
     "execution_count": 1,
     "metadata": {
      "tags": []
     },
     "output_type": "execute_result"
    }
   ],
   "source": [
    "# Do we use gpu in tensorflow?\n",
    "import tensorflow as tf\n",
    "tf.test.gpu_device_name()"
   ]
  },
  {
   "cell_type": "markdown",
   "metadata": {
    "colab_type": "text",
    "id": "hvitkwjqYKgS"
   },
   "source": [
    "## Step 7. Install additional libraries and try to import your libraries."
   ]
  },
  {
   "cell_type": "markdown",
   "metadata": {},
   "source": [
    "### install requirements"
   ]
  },
  {
   "cell_type": "code",
   "execution_count": 1,
   "metadata": {
    "scrolled": true
   },
   "outputs": [
    {
     "name": "stderr",
     "output_type": "stream",
     "text": [
      "Could not open requirements file: [Errno 2] No such file or directory: './requirements.txt'\n",
      "You are using pip version 10.0.0, however version 10.0.1 is available.\n",
      "You should consider upgrading via the 'python -m pip install --upgrade pip' command.\n"
     ]
    }
   ],
   "source": [
    "!pip install -r ./requirements.txt"
   ]
  },
  {
   "cell_type": "markdown",
   "metadata": {
    "colab_type": "text",
    "id": "-9Bb1zhMYshp"
   },
   "source": [
    "### Include libraries"
   ]
  },
  {
   "cell_type": "code",
   "execution_count": 0,
   "metadata": {
    "colab": {
     "autoexec": {
      "startup": false,
      "wait_interval": 0
     }
    },
    "colab_type": "code",
    "id": "HycRrP8YWufR"
   },
   "outputs": [],
   "source": [
    "%matplotlib inline\n",
    "import pickle, gzip\n",
    "import pandas as pd\n",
    "import numpy as np\n",
    "import matplotlib.pyplot as plt\n",
    "import seaborn as sns\n",
    "from scipy import stats\n",
    "from ast import literal_eval\n",
    "from sklearn.feature_extraction.text import TfidfVectorizer, CountVectorizer\n",
    "from sklearn.metrics.pairwise import linear_kernel, cosine_similarity\n",
    "from nltk.stem.snowball import SnowballStemmer\n",
    "from nltk.stem.wordnet import WordNetLemmatizer\n",
    "from nltk.corpus import wordnet\n",
    "\n",
    "from nltk.classify import NaiveBayesClassifier\n",
    "from nltk.corpus import subjectivity\n",
    "from nltk.sentiment import SentimentAnalyzer\n",
    "from nltk.sentiment.util import *\n",
    "import re\n",
    "import nltk\n",
    "from nltk.corpus import stopwords\n",
    "\n",
    "import tensorflow as tf\n",
    "\n",
    "import warnings; warnings.simplefilter('ignore')"
   ]
  },
  {
   "cell_type": "markdown",
   "metadata": {
    "colab_type": "text",
    "id": "vee5j1NS0Tmp"
   },
   "source": [
    "### Step 7-1. Example. Download additional nltk stop words"
   ]
  },
  {
   "cell_type": "code",
   "execution_count": 0,
   "metadata": {
    "colab": {
     "autoexec": {
      "startup": false,
      "wait_interval": 0
     },
     "output_extras": [
      {}
     ]
    },
    "colab_type": "code",
    "id": "pp41qRiAm-UJ",
    "outputId": "e41bb559-61fb-4d9f-9b01-1a4ecdc6167e"
   },
   "outputs": [
    {
     "name": "stdout",
     "output_type": "stream",
     "text": [
      "179\n",
      "{'after', \"isn't\", 'above', 'what', 'during', 'below', 'yourself', 'so', 'but', \"shouldn't\", 'off', 'by', 'about', 'hasn', 'hers', 'd', \"haven't\", 'with', 'not', 'from', 'shan', 'that', 'o', 'into', 'at', 'of', 'too', 'ourselves', 'over', 'on', 'through', 'your', 'are', 'same', 'weren', 'she', 'these', \"don't\", 'aren', \"it's\", 'shouldn', 'as', 'up', 'is', 'does', 's', 'were', \"should've\", 'such', 'between', 'no', 'under', \"wasn't\", 'which', \"mightn't\", 'haven', 'it', 'themselves', 'how', 'i', 'ain', 'the', 'where', \"you'll\", 'mustn', 'some', \"she's\", \"didn't\", 'my', 'being', 'me', 'isn', 'in', 'for', 'more', 'ma', 'been', 'll', 'didn', \"you're\", 'than', \"doesn't\", 'yours', 'did', 'y', 'hadn', \"hasn't\", 'his', 'this', 'only', 'be', 'doing', \"shan't\", 'why', 'very', 'before', 'ours', 'few', 'm', \"aren't\", 'most', 'any', 'couldn', 'himself', 't', 'you', 'once', 'nor', 'other', 'will', 'a', \"couldn't\", 'them', \"hadn't\", 'have', \"mustn't\", 'because', 'we', 'had', 'myself', 'or', 'herself', 'wasn', \"wouldn't\", 'whom', 've', 'against', 'don', 'those', 'itself', \"that'll\", 'further', \"needn't\", \"weren't\", 'who', 'needn', 'their', 'having', \"won't\", 'now', 'was', 'down', 'there', 'wouldn', 'him', 'our', 'he', 'they', \"you'd\", 'if', 'should', 'own', 'theirs', 'its', 'and', 'won', 'her', 'all', 'while', \"you've\", 'then', 'yourselves', 'again', 'just', 'doesn', 'has', 'to', 'can', 'do', 'an', 'until', 'am', 'when', 'out', 'both', 'each', 're', 'mightn', 'here'}\n"
     ]
    }
   ],
   "source": [
    "# nltk.download('stopwords')\n",
    "stopWords = set(stopwords.words('english'))\n",
    "print(len(stopWords))\n",
    "print(stopWords)"
   ]
  },
  {
   "cell_type": "markdown",
   "metadata": {
    "colab_type": "text",
    "id": "pdPuU7fCY_4a"
   },
   "source": [
    "### Step 8. Save your data into Colab instance then copy the file to your google drive.\n",
    "#### 8-1. save a Keras model file into Colab instance then copy the model file to google drive."
   ]
  },
  {
   "cell_type": "code",
   "execution_count": 0,
   "metadata": {
    "colab": {
     "autoexec": {
      "startup": false,
      "wait_interval": 0
     }
    },
    "colab_type": "code",
    "id": "wRGAxseIm-UN"
   },
   "outputs": [],
   "source": [
    "model.save(\"cnn_model.h5\")\n",
    "!cp cnn_model* ./drive/workspace"
   ]
  },
  {
   "cell_type": "code",
   "execution_count": 0,
   "metadata": {
    "colab": {
     "autoexec": {
      "startup": false,
      "wait_interval": 0
     }
    },
    "colab_type": "code",
    "id": "hu7-FRYtm-UO"
   },
   "outputs": [],
   "source": [
    "model.save(\"cnn_lstm_model.h5\")\n",
    "!cp cnn_lstm_model* ./drive/workspace"
   ]
  },
  {
   "cell_type": "code",
   "execution_count": 0,
   "metadata": {
    "colab": {
     "autoexec": {
      "startup": false,
      "wait_interval": 0
     }
    },
    "colab_type": "code",
    "id": "6Gd2_0rNm-US"
   },
   "outputs": [],
   "source": [
    "model = load_model(\"cnn_model.h5\")"
   ]
  },
  {
   "cell_type": "code",
   "execution_count": 0,
   "metadata": {
    "colab": {
     "autoexec": {
      "startup": false,
      "wait_interval": 0
     }
    },
    "colab_type": "code",
    "id": "UNe1FW4Gm-UT"
   },
   "outputs": [],
   "source": [
    "model = load_model(\"cnn_lstm_model.h5\")"
   ]
  },
  {
   "cell_type": "markdown",
   "metadata": {
    "colab_type": "text",
    "id": "8xRuHJNvm-UW"
   },
   "source": [
    "### 8-2. Save Python objects into a file then copy to google drive."
   ]
  },
  {
   "cell_type": "code",
   "execution_count": 0,
   "metadata": {
    "colab": {
     "autoexec": {
      "startup": false,
      "wait_interval": 0
     }
    },
    "colab_type": "code",
    "id": "FfIuJf3Rm-UW"
   },
   "outputs": [],
   "source": [
    "pickle.dump((list_test_userlist_wordlist_index, word_index), gzip.open(\"email_words_test.pkl\", 'wb'))\n",
    "!cp email_words_test* ./drive/NLP"
   ]
  },
  {
   "cell_type": "code",
   "execution_count": 0,
   "metadata": {
    "colab": {
     "autoexec": {
      "startup": false,
      "wait_interval": 0
     }
    },
    "colab_type": "code",
    "id": "PMsn5mGSm-UY"
   },
   "outputs": [],
   "source": [
    "(list_test_userlist_wordlist_index, word_index) = pickle.load(gzip.open(\"email_words_test.pkl\", 'rb'))"
   ]
  },
  {
   "cell_type": "markdown",
   "metadata": {},
   "source": [
    "## Step 9. Backup your results to Google Drive\n",
    "### Assume your data and models stored in ./data folder\n",
    "### You want to sync. everything under ./data folder to google drive."
   ]
  },
  {
   "cell_type": "code",
   "execution_count": null,
   "metadata": {},
   "outputs": [],
   "source": [
    "!ls\n",
    "!cp -R ./data/* ./drive/workspace/data"
   ]
  }
 ],
 "metadata": {
  "accelerator": "GPU",
  "colab": {
   "collapsed_sections": [],
   "default_view": {},
   "name": "GoogleColaboratoryNotebookTemplate.ipynb",
   "provenance": [],
   "version": "0.3.2",
   "views": {}
  },
  "kernelspec": {
   "display_name": "Python 3",
   "language": "python",
   "name": "python3"
  },
  "language_info": {
   "codemirror_mode": {
    "name": "ipython",
    "version": 3
   },
   "file_extension": ".py",
   "mimetype": "text/x-python",
   "name": "python",
   "nbconvert_exporter": "python",
   "pygments_lexer": "ipython3",
   "version": "3.6.4"
  }
 },
 "nbformat": 4,
 "nbformat_minor": 1
}
